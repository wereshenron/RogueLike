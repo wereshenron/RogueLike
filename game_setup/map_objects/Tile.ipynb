{
 "cells": [
  {
   "cell_type": "code",
   "execution_count": null,
   "metadata": {},
   "outputs": [],
   "source": [
    "class Tile:\n",
    "    \"\"\"\n",
    "    A tile on a map. It may or may not be blocked, and may or may not block sight.\n",
    "    \"\"\"\n",
    "    def __init__(self, blocked, block_sight=None):\n",
    "        self.blocked = blocked\n",
    "        \n",
    "        # By default, if a tile is blocked, it also blocks sight\n",
    "        if block_sight is None:\n",
    "            block_sight = blocked\n",
    "        \n",
    "        self.block_sight = block_sight"
   ]
  }
 ],
 "metadata": {
  "kernelspec": {
   "display_name": "GameEnv",
   "language": "python",
   "name": "gameenv"
  },
  "language_info": {
   "codemirror_mode": {
    "name": "ipython",
    "version": 3
   },
   "file_extension": ".py",
   "mimetype": "text/x-python",
   "name": "python",
   "nbconvert_exporter": "python",
   "pygments_lexer": "ipython3",
   "version": "3.8.5"
  }
 },
 "nbformat": 4,
 "nbformat_minor": 4
}
