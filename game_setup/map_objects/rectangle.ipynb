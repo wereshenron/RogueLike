{
 "cells": [
  {
   "cell_type": "code",
   "execution_count": null,
   "metadata": {},
   "outputs": [],
   "source": [
    "class Rect:\n",
    "    def __init__(self, x, y, w, h):\n",
    "        self.x1 = x\n",
    "        self.y1 = y\n",
    "        self.x2 = x + w\n",
    "        self.y2 = y + h"
   ]
  }
 ],
 "metadata": {
  "kernelspec": {
   "display_name": "GameEnv",
   "language": "python",
   "name": "gameenv"
  },
  "language_info": {
   "codemirror_mode": {
    "name": "ipython",
    "version": 3
   },
   "file_extension": ".py",
   "mimetype": "text/x-python",
   "name": "python",
   "nbconvert_exporter": "python",
   "pygments_lexer": "ipython3",
   "version": "3.8.5"
  }
 },
 "nbformat": 4,
 "nbformat_minor": 4
}
