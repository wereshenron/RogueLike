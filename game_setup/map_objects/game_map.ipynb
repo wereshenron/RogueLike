{
 "cells": [
  {
   "cell_type": "code",
   "execution_count": null,
   "metadata": {},
   "outputs": [],
   "source": [
    "from map_objects.tile import Tile\n",
    "\n",
    "\n",
    "class GameMap:\n",
    "    def __init__(self, width, height):\n",
    "        self.width = width\n",
    "        self.height = height\n",
    "        self.tiles = self.initialize_tiles()\n",
    "\n",
    "    def initialize_tiles(self):\n",
    "        tiles = [[Tile(False) for y in range(self.height)] for x in range(self.width)]\n",
    "\n",
    "        tiles[30][22].blocked = True\n",
    "        tiles[30][22].block_sight = True\n",
    "        tiles[31][22].blocked = True\n",
    "        tiles[31][22].block_sight = True\n",
    "        tiles[32][22].blocked = True\n",
    "        tiles[32][22].block_sight = True\n",
    "\n",
    "        return tiles"
   ]
  }
 ],
 "metadata": {
  "kernelspec": {
   "display_name": "GameEnv",
   "language": "python",
   "name": "gameenv"
  },
  "language_info": {
   "codemirror_mode": {
    "name": "ipython",
    "version": 3
   },
   "file_extension": ".py",
   "mimetype": "text/x-python",
   "name": "python",
   "nbconvert_exporter": "python",
   "pygments_lexer": "ipython3",
   "version": "3.8.5"
  }
 },
 "nbformat": 4,
 "nbformat_minor": 4
}
